{
 "cells": [
  {
   "cell_type": "code",
   "execution_count": 9,
   "id": "ba28dbde-44f8-466e-91ca-430f5edc4262",
   "metadata": {},
   "outputs": [
    {
     "data": {
      "text/plain": [
       "2"
      ]
     },
     "execution_count": 9,
     "metadata": {},
     "output_type": "execute_result"
    }
   ],
   "source": [
    "1+1"
   ]
  },
  {
   "cell_type": "code",
   "execution_count": null,
   "id": "ed8811b1-658b-49f3-aed8-a6573a339333",
   "metadata": {},
   "outputs": [],
   "source": []
  },
  {
   "cell_type": "code",
   "execution_count": 9,
   "id": "f29e6db1-3e5e-40c2-b1bd-229eaf83538c",
   "metadata": {},
   "outputs": [
    {
     "data": {
      "text/plain": [
       "2"
      ]
     },
     "execution_count": 9,
     "metadata": {},
     "output_type": "execute_result"
    }
   ],
   "source": [
    "1+1"
   ]
  },
  {
   "cell_type": "code",
   "execution_count": 10,
   "id": "996a8e18-3754-492c-bfdd-99cb28202790",
   "metadata": {},
   "outputs": [
    {
     "data": {
      "text/plain": [
       "2"
      ]
     },
     "execution_count": 10,
     "metadata": {},
     "output_type": "execute_result"
    }
   ],
   "source": [
    "1+1"
   ]
  },
  {
   "cell_type": "code",
   "execution_count": 12,
   "id": "ae62e147-08aa-47a7-9c44-f173f44e5f98",
   "metadata": {},
   "outputs": [
    {
     "data": {
      "text/plain": [
       "2"
      ]
     },
     "execution_count": 12,
     "metadata": {},
     "output_type": "execute_result"
    }
   ],
   "source": [
    "1+1"
   ]
  },
  {
   "cell_type": "code",
   "execution_count": null,
   "id": "f63c1df4-6f36-477a-98c0-eef132c386c4",
   "metadata": {},
   "outputs": [],
   "source": [
    "a=10"
   ]
  },
  {
   "cell_type": "code",
   "execution_count": 13,
   "id": "88eb9303-f49f-4b75-b32e-fbb2f4ba8d08",
   "metadata": {},
   "outputs": [
    {
     "data": {
      "text/plain": [
       "int"
      ]
     },
     "execution_count": 13,
     "metadata": {},
     "output_type": "execute_result"
    }
   ],
   "source": [
    "type(a)"
   ]
  },
  {
   "cell_type": "markdown",
   "id": "d8ddfd04-a68d-4ba9-b385-036cd1f4ea3f",
   "metadata": {},
   "source": [
    "#hello"
   ]
  },
  {
   "cell_type": "code",
   "execution_count": 18,
   "id": "f16be39a-b368-49ef-bb13-09602885962b",
   "metadata": {},
   "outputs": [
    {
     "data": {
      "text/plain": [
       "20"
      ]
     },
     "execution_count": 18,
     "metadata": {},
     "output_type": "execute_result"
    }
   ],
   "source": [
    "##hello guys this is just a comment.\n",
    "a=20\n",
    "a"
   ]
  },
  {
   "cell_type": "code",
   "execution_count": 19,
   "id": "d1ee9d31-ee75-4810-ab54-cc3689f12dce",
   "metadata": {},
   "outputs": [
    {
     "data": {
      "text/plain": [
       "10"
      ]
     },
     "execution_count": 20,
     "metadata": {},
     "output_type": "execute_result"
    }
   ],
   "source": [
    "\"\"\"\n",
    "hello this is a example of multiline comments of  python\n",
    "\"\"\"\n",
    "a=10\n",
    "a"
   ]
  },
  {
   "cell_type": "markdown",
   "id": "2a70887a-7dbd-4b11-8c92-b33931280c78",
   "metadata": {},
   "source": [
    "#hello"
   ]
  },
  {
   "cell_type": "markdown",
   "id": "6175263e-9601-47ab-a4b5-7c48a5d61a7f",
   "metadata": {},
   "source": [
    "##hello 1"
   ]
  },
  {
   "cell_type": "markdown",
   "id": "b951dd5a-78ad-40a0-9364-f2a472e39015",
   "metadata": {},
   "source": [
    "###hello2"
   ]
  },
  {
   "cell_type": "markdown",
   "id": "69fbff7a-d03e-4c58-b128-3b770cddbc19",
   "metadata": {},
   "source": [
    "#this is sparta listen up"
   ]
  },
  {
   "cell_type": "markdown",
   "id": "2a3d87b7-2693-4352-bec3-bc18d7c33417",
   "metadata": {},
   "source": [
    "#hello"
   ]
  },
  {
   "cell_type": "markdown",
   "id": "5821a526-f7db-42d0-afef-d56b53312198",
   "metadata": {},
   "source": [
    "1.new chapter"
   ]
  },
  {
   "cell_type": "markdown",
   "id": "ec6031f2-2dfa-405f-ac09-4d1c5dded8aa",
   "metadata": {},
   "source": [
    "#hello"
   ]
  },
  {
   "cell_type": "markdown",
   "id": "21583538-a592-41b5-aa72-ac0a53911767",
   "metadata": {},
   "source": [
    "#hello"
   ]
  },
  {
   "cell_type": "code",
   "execution_count": null,
   "id": "b2b25d79-fd7d-4279-9fc9-592e23a8f416",
   "metadata": {},
   "outputs": [],
   "source": [
    "a= 2x "
   ]
  },
  {
   "cell_type": "code",
   "execution_count": null,
   "id": "07434ce5-81a8-431e-955d-fe4bbe4e0fb4",
   "metadata": {},
   "outputs": [
    {
     "data": {
      "text/plain": [
       "int"
      ]
     },
     "execution_count": 24,
     "metadata": {},
     "output_type": "execute_result"
    }
   ],
   "source": [
    "type(a)"
   ]
  },
  {
   "cell_type": "code",
   "execution_count": 25,
   "id": "b1fd72f6-ae87-4f23-9da2-ff6f2b519661",
   "metadata": {},
   "outputs": [],
   "source": [
    "a=10"
   ]
  },
  {
   "cell_type": "code",
   "execution_count": 26,
   "id": "79cc32af-3b17-4cb1-ad56-e8ce10727d82",
   "metadata": {},
   "outputs": [
    {
     "data": {
      "text/plain": [
       "10"
      ]
     },
     "execution_count": 26,
     "metadata": {},
     "output_type": "execute_result"
    }
   ],
   "source": [
    "a"
   ]
  },
  {
   "cell_type": "markdown",
   "id": "b7a3fbba-0d34-4aa8-b9ad-11376849929d",
   "metadata": {},
   "source": [
    "# helo"
   ]
  },
  {
   "cell_type": "markdown",
   "id": "a2e89273-1a0f-418f-8403-04e725bb4fcd",
   "metadata": {},
   "source": [
    "##helo\n"
   ]
  },
  {
   "cell_type": "markdown",
   "id": "87ddfa86-15e1-4d2c-af2c-63d7eafbacf0",
   "metadata": {},
   "source": [
    "##hello"
   ]
  },
  {
   "cell_type": "code",
   "execution_count": 28,
   "id": "0a1874ab-73c7-4864-bc73-39b022d10278",
   "metadata": {},
   "outputs": [
    {
     "data": {
      "text/plain": [
       "10"
      ]
     },
     "execution_count": 28,
     "metadata": {},
     "output_type": "execute_result"
    }
   ],
   "source": [
    "\"\"\"\n",
    "hello this isa example of mltiline comments\n",
    "\"\"\"\n",
    "a=10\n",
    "a"
   ]
  },
  {
   "cell_type": "markdown",
   "id": "cbfdf9a7-5f3d-418b-8536-52c8b12f40bf",
   "metadata": {},
   "source": [
    "# hello"
   ]
  },
  {
   "cell_type": "markdown",
   "id": "947bf882-7ebd-483c-b5b6-d1bf51b9e18f",
   "metadata": {},
   "source": [
    "## hello"
   ]
  },
  {
   "cell_type": "markdown",
   "id": "d7efeef1-ca98-4d6a-9a0c-e8bd99eab68f",
   "metadata": {},
   "source": [
    "# 1 .helloguys"
   ]
  },
  {
   "cell_type": "raw",
   "id": "d0449257-d41e-4e2a-9aaa-e37539a41796",
   "metadata": {},
   "source": [
    "#hello"
   ]
  },
  {
   "cell_type": "raw",
   "id": "386a98c5-8686-489e-86e2-bb64d09bdab1",
   "metadata": {},
   "source": [
    "@hello"
   ]
  },
  {
   "cell_type": "markdown",
   "id": "7ac1cd9b-b1ce-4529-b0b0-db0cbb25f0b7",
   "metadata": {},
   "source": [
    "# hey boys this is sparta"
   ]
  },
  {
   "cell_type": "markdown",
   "id": "994a1cf0-197f-4bb7-814d-64b4a96665bc",
   "metadata": {},
   "source": [
    "# numbers"
   ]
  },
  {
   "cell_type": "code",
   "execution_count": 31,
   "id": "e80c609b-2dd5-4452-a78a-8a9bc5ebb7d8",
   "metadata": {},
   "outputs": [
    {
     "data": {
      "text/plain": [
       "4"
      ]
     },
     "execution_count": 31,
     "metadata": {},
     "output_type": "execute_result"
    }
   ],
   "source": [
    "1+3"
   ]
  },
  {
   "cell_type": "markdown",
   "id": "bdf5a0e8-db5b-40c4-a3ae-49cdcbdec297",
   "metadata": {},
   "source": [
    "#this isjust a output"
   ]
  },
  {
   "cell_type": "code",
   "execution_count": 32,
   "id": "5e10f37f-b210-4ffe-8fd1-98569c33bff8",
   "metadata": {},
   "outputs": [
    {
     "name": "stdout",
     "output_type": "stream",
     "text": [
      "4\n"
     ]
    }
   ],
   "source": [
    "print(1+3)"
   ]
  },
  {
   "cell_type": "markdown",
   "id": "e45bbe40-036d-42a3-a5dc-e88810d30f78",
   "metadata": {},
   "source": [
    "#print(1+3) is terminal output console "
   ]
  },
  {
   "cell_type": "code",
   "execution_count": 38,
   "id": "9c7a3dad-d82e-4572-8c68-f13ae5f6ecb0",
   "metadata": {},
   "outputs": [
    {
     "name": "stdout",
     "output_type": "stream",
     "text": [
      "helloworld this is sparta and \n",
      " this is pwskills\n"
     ]
    }
   ],
   "source": [
    "print(\"helloworld this is sparta and \\n this is pwskills\")"
   ]
  },
  {
   "cell_type": "markdown",
   "id": "92bde11d-7b94-4c62-b6de-de041137bf38",
   "metadata": {},
   "source": [
    "# variable assignment"
   ]
  },
  {
   "cell_type": "code",
   "execution_count": null,
   "id": "7eed49a6-b53d-4a94-93a0-ac855239aa57",
   "metadata": {},
   "outputs": [],
   "source": [
    "name= \"sonu\"\n",
    "company=\"pwskills\""
   ]
  },
  {
   "cell_type": "code",
   "execution_count": 87,
   "id": "3cf151fe-be61-4e4c-8106-20d279d0de58",
   "metadata": {},
   "outputs": [
    {
     "data": {
      "text/plain": [
       "str"
      ]
     },
     "execution_count": 87,
     "metadata": {},
     "output_type": "execute_result"
    }
   ],
   "source": [
    "type(name)"
   ]
  },
  {
   "cell_type": "code",
   "execution_count": 41,
   "id": "f48b03ba-4ef2-496f-a047-61cbec703bc5",
   "metadata": {},
   "outputs": [
    {
     "data": {
      "text/plain": [
       "'pwskills'"
      ]
     },
     "execution_count": 41,
     "metadata": {},
     "output_type": "execute_result"
    }
   ],
   "source": [
    "company"
   ]
  },
  {
   "cell_type": "code",
   "execution_count": 44,
   "id": "4f6b2349-6980-4250-ba2b-ae3fde49c3a5",
   "metadata": {},
   "outputs": [],
   "source": [
    "number=10"
   ]
  },
  {
   "cell_type": "code",
   "execution_count": 46,
   "id": "320a3af9-fe7a-44ee-8950-04954534ed99",
   "metadata": {},
   "outputs": [
    {
     "data": {
      "text/plain": [
       "10"
      ]
     },
     "execution_count": 46,
     "metadata": {},
     "output_type": "execute_result"
    }
   ],
   "source": [
    "number"
   ]
  },
  {
   "cell_type": "code",
   "execution_count": null,
   "id": "82d058a6-6fd7-4d45-be7d-31744009df93",
   "metadata": {},
   "outputs": [],
   "source": [
    "name=\"bala\""
   ]
  },
  {
   "cell_type": "code",
   "execution_count": 52,
   "id": "8163bbe4-5e70-4d75-b0a9-a7b97d7a76d0",
   "metadata": {},
   "outputs": [],
   "source": [
    "decimal_num=2.5"
   ]
  },
  {
   "cell_type": "code",
   "execution_count": 53,
   "id": "8b57c7c0-ee05-412e-9d67-b5dad6479ee6",
   "metadata": {},
   "outputs": [
    {
     "data": {
      "text/plain": [
       "2.5"
      ]
     },
     "execution_count": 53,
     "metadata": {},
     "output_type": "execute_result"
    }
   ],
   "source": [
    "decimal_num"
   ]
  },
  {
   "cell_type": "code",
   "execution_count": 55,
   "id": "b485defc-c87d-4ef6-a1ac-ed54d9a729d3",
   "metadata": {},
   "outputs": [
    {
     "data": {
      "text/plain": [
       "complex"
      ]
     },
     "execution_count": 55,
     "metadata": {},
     "output_type": "execute_result"
    }
   ],
   "source": [
    "type(1+2j)"
   ]
  },
  {
   "cell_type": "code",
   "execution_count": null,
   "id": "5c43ef23-dc54-48c8-ac7b-c761f3e69bde",
   "metadata": {},
   "outputs": [],
   "source": [
    "##bad way to write a variable with numbers(int)\n",
    "1a ,3 answer instead write it as a1 or number1, answer 3."
   ]
  },
  {
   "cell_type": "code",
   "execution_count": 56,
   "id": "98436da4-476d-4bae-85db-5d14550beb7d",
   "metadata": {},
   "outputs": [
    {
     "name": "stdout",
     "output_type": "stream",
     "text": [
      "ineuron\n",
      "pwskills\n"
     ]
    }
   ],
   "source": [
    "##variables are case sensitive \n",
    "company='ineuron'\n",
    "Company='pwskills'\n",
    "print(company)\n",
    "print(Company)"
   ]
  },
  {
   "cell_type": "code",
   "execution_count": null,
   "id": "fd842c56-9623-4403-bdbf-80c140f8eff0",
   "metadata": {},
   "outputs": [],
   "source": [
    "#reserved keywords\n",
    "\"\"\"\n",
    "int ,floaaat, len, omplex, boolean,str,return,yield,else\n",
    "\"\"\""
   ]
  },
  {
   "cell_type": "code",
   "execution_count": null,
   "id": "d08ef738-9409-434e-a052-0859ec4aa0fe",
   "metadata": {},
   "outputs": [],
   "source": [
    "true"
   ]
  },
  {
   "cell_type": "code",
   "execution_count": 58,
   "id": "aeba8583-aa61-4c2d-977b-9348987750d1",
   "metadata": {},
   "outputs": [
    {
     "data": {
      "text/plain": [
       "True"
      ]
     },
     "execution_count": 58,
     "metadata": {},
     "output_type": "execute_result"
    }
   ],
   "source": [
    "# bool\n",
    "True"
   ]
  },
  {
   "cell_type": "code",
   "execution_count": 59,
   "id": "e109c271-73ec-45e8-97dd-2368ad883f06",
   "metadata": {},
   "outputs": [
    {
     "data": {
      "text/plain": [
       "False"
      ]
     },
     "execution_count": 59,
     "metadata": {},
     "output_type": "execute_result"
    }
   ],
   "source": [
    "False"
   ]
  },
  {
   "cell_type": "code",
   "execution_count": 60,
   "id": "43cb23c9-a5fe-4959-aa74-3f96a2c90792",
   "metadata": {},
   "outputs": [
    {
     "data": {
      "text/plain": [
       "False"
      ]
     },
     "execution_count": 60,
     "metadata": {},
     "output_type": "execute_result"
    }
   ],
   "source": [
    "True and False"
   ]
  },
  {
   "cell_type": "code",
   "execution_count": 61,
   "id": "075e3dcd-56dd-4885-aeed-802f08064fdb",
   "metadata": {},
   "outputs": [
    {
     "data": {
      "text/plain": [
       "True"
      ]
     },
     "execution_count": 61,
     "metadata": {},
     "output_type": "execute_result"
    }
   ],
   "source": [
    "True or False"
   ]
  },
  {
   "cell_type": "code",
   "execution_count": 62,
   "id": "f02ac620-4218-43b5-bfdc-d146e5495630",
   "metadata": {},
   "outputs": [
    {
     "data": {
      "text/plain": [
       "False"
      ]
     },
     "execution_count": 62,
     "metadata": {},
     "output_type": "execute_result"
    }
   ],
   "source": [
    "not True"
   ]
  },
  {
   "cell_type": "code",
   "execution_count": 63,
   "id": "17e77c51-6400-4b33-a5a1-77f59e5d79df",
   "metadata": {},
   "outputs": [
    {
     "data": {
      "text/plain": [
       "bool"
      ]
     },
     "execution_count": 67,
     "metadata": {},
     "output_type": "execute_result"
    }
   ],
   "source": [
    "type(not False)"
   ]
  },
  {
   "cell_type": "code",
   "execution_count": 68,
   "id": "93e69b0f-b765-4168-8293-dc42d41eda61",
   "metadata": {},
   "outputs": [
    {
     "data": {
      "text/plain": [
       "False"
      ]
     },
     "execution_count": 68,
     "metadata": {},
     "output_type": "execute_result"
    }
   ],
   "source": [
    "## typeasting \n",
    "bool(0)"
   ]
  },
  {
   "cell_type": "code",
   "execution_count": 69,
   "id": "c362c870-fd8b-4a7f-b909-a9f784e6ab63",
   "metadata": {},
   "outputs": [
    {
     "data": {
      "text/plain": [
       "True"
      ]
     },
     "execution_count": 69,
     "metadata": {},
     "output_type": "execute_result"
    }
   ],
   "source": [
    "bool(1)"
   ]
  },
  {
   "cell_type": "code",
   "execution_count": 76,
   "id": "1c5b0d3a-3680-4591-ba69-4fb6dd98a5ac",
   "metadata": {
    "jupyter": {
     "source_hidden": true
    },
    "tags": []
   },
   "outputs": [
    {
     "name": "stdout",
     "output_type": "stream",
     "text": [
      "True\n"
     ]
    }
   ],
   "source": [
    "a=1\n",
    "if bool(a)==True:\n",
    "    print(\"True\")"
   ]
  },
  {
   "cell_type": "code",
   "execution_count": null,
   "id": "7c4e7772-f767-4736-8612-de6f697da372",
   "metadata": {},
   "outputs": [],
   "source": [
    "##233 convert it into string"
   ]
  },
  {
   "cell_type": "code",
   "execution_count": 78,
   "id": "29a8032d-c743-433a-b89a-40f809cd89c4",
   "metadata": {},
   "outputs": [
    {
     "data": {
      "text/plain": [
       "'233'"
      ]
     },
     "execution_count": 78,
     "metadata": {},
     "output_type": "execute_result"
    }
   ],
   "source": [
    "str(233)"
   ]
  },
  {
   "cell_type": "code",
   "execution_count": 80,
   "id": "43ff9a5f-8a3f-465a-8189-c417615d88f1",
   "metadata": {},
   "outputs": [
    {
     "data": {
      "text/plain": [
       "233"
      ]
     },
     "execution_count": 80,
     "metadata": {},
     "output_type": "execute_result"
    }
   ],
   "source": [
    "int('233')"
   ]
  },
  {
   "cell_type": "code",
   "execution_count": null,
   "id": "77dc8b64-a25c-474e-9c5e-5d1e7e610f16",
   "metadata": {},
   "outputs": [],
   "source": []
  },
  {
   "cell_type": "code",
   "execution_count": 81,
   "id": "df5fc23b-37a4-42fb-a24d-eeba9e792b34",
   "metadata": {},
   "outputs": [
    {
     "data": {
      "text/plain": [
       "int"
      ]
     },
     "execution_count": 81,
     "metadata": {},
     "output_type": "execute_result"
    }
   ],
   "source": [
    "type(int('233'))"
   ]
  },
  {
   "cell_type": "markdown",
   "id": "335659cf-619d-499f-9ad2-dd4fc356fd29",
   "metadata": {},
   "source": [
    "#dynamic typing "
   ]
  },
  {
   "cell_type": "code",
   "execution_count": null,
   "id": "75e8952a-5239-453a-a969-7ca094c9dc28",
   "metadata": {},
   "outputs": [],
   "source": [
    "a=12\n",
    "str1=\"sonu\"\n",
    "a=\"var\""
   ]
  },
  {
   "cell_type": "code",
   "execution_count": 82,
   "id": "c2a58c49-9c59-4462-bcd2-5b2a9c2bb8e1",
   "metadata": {},
   "outputs": [
    {
     "name": "stdout",
     "output_type": "stream",
     "text": [
      "<class 'int'>\n"
     ]
    }
   ],
   "source": [
    "print(type(a))"
   ]
  },
  {
   "cell_type": "code",
   "execution_count": 83,
   "id": "c65f8191-143a-4cb5-9ee8-059cb874eb4b",
   "metadata": {},
   "outputs": [
    {
     "data": {
      "text/plain": [
       "1"
      ]
     },
     "execution_count": 83,
     "metadata": {},
     "output_type": "execute_result"
    }
   ],
   "source": [
    "int(1.54)"
   ]
  },
  {
   "cell_type": "code",
   "execution_count": null,
   "id": "4031e5ee-fd74-4210-ac71-d1e41ffce0be",
   "metadata": {},
   "outputs": [],
   "source": [
    "##concatination bt different type"
   ]
  },
  {
   "cell_type": "code",
   "execution_count": 84,
   "id": "666f7c2a-2ce8-413e-b8d0-93da852858f0",
   "metadata": {},
   "outputs": [
    {
     "data": {
      "text/plain": [
       "'11'"
      ]
     },
     "execution_count": 84,
     "metadata": {},
     "output_type": "execute_result"
    }
   ],
   "source": [
    "\"1\"+\"1\""
   ]
  },
  {
   "cell_type": "code",
   "execution_count": 85,
   "id": "ec21443d-907f-45d3-a03c-01f11ac22cb7",
   "metadata": {},
   "outputs": [
    {
     "ename": "TypeError",
     "evalue": "can't multiply sequence by non-int of type 'str'",
     "output_type": "error",
     "traceback": [
      "\u001b[0;31m---------------------------------------------------------------------------\u001b[0m",
      "\u001b[0;31mTypeError\u001b[0m                                 Traceback (most recent call last)",
      "Cell \u001b[0;32mIn[85], line 1\u001b[0m\n\u001b[0;32m----> 1\u001b[0m \u001b[38;5;124;43m\"\u001b[39;49m\u001b[38;5;124;43m1\u001b[39;49m\u001b[38;5;124;43m\"\u001b[39;49m\u001b[38;5;241;43m*\u001b[39;49m\u001b[38;5;124;43m\"\u001b[39;49m\u001b[38;5;124;43m1\u001b[39;49m\u001b[38;5;124;43m\"\u001b[39;49m\n",
      "\u001b[0;31mTypeError\u001b[0m: can't multiply sequence by non-int of type 'str'"
     ]
    }
   ],
   "source": [
    "\"1\"*\"1\""
   ]
  },
  {
   "cell_type": "code",
   "execution_count": 86,
   "id": "fd30c01c-210a-4432-8d17-550fcddf3efa",
   "metadata": {},
   "outputs": [
    {
     "data": {
      "text/plain": [
       "'1111111111111111111111111111111111111111111111111111111111111111111111111111111111111111111111111111'"
      ]
     },
     "execution_count": 86,
     "metadata": {},
     "output_type": "execute_result"
    }
   ],
   "source": [
    "\"1\"*100"
   ]
  },
  {
   "cell_type": "code",
   "execution_count": 99,
   "id": "bff0ebb5-63bc-44e3-8a30-6f8f464b16ac",
   "metadata": {},
   "outputs": [],
   "source": [
    "type= {}"
   ]
  },
  {
   "cell_type": "code",
   "execution_count": 100,
   "id": "e6d72a99-c5be-45ee-a8c2-62b288498936",
   "metadata": {},
   "outputs": [
    {
     "ename": "TypeError",
     "evalue": "'dict' object is not callable",
     "output_type": "error",
     "traceback": [
      "\u001b[0;31m---------------------------------------------------------------------------\u001b[0m",
      "\u001b[0;31mTypeError\u001b[0m                                 Traceback (most recent call last)",
      "Cell \u001b[0;32mIn[100], line 1\u001b[0m\n\u001b[0;32m----> 1\u001b[0m \u001b[38;5;28;43mtype\u001b[39;49m\u001b[43m(\u001b[49m\u001b[38;5;241;43m23\u001b[39;49m\u001b[43m)\u001b[49m\n",
      "\u001b[0;31mTypeError\u001b[0m: 'dict' object is not callable"
     ]
    }
   ],
   "source": [
    "type(23)"
   ]
  },
  {
   "cell_type": "code",
   "execution_count": 98,
   "id": "94b677e8-337d-4055-a0cb-f5464a36148b",
   "metadata": {},
   "outputs": [
    {
     "ename": "TypeError",
     "evalue": "'dict' object is not callable",
     "output_type": "error",
     "traceback": [
      "\u001b[0;31m---------------------------------------------------------------------------\u001b[0m",
      "\u001b[0;31mTypeError\u001b[0m                                 Traceback (most recent call last)",
      "Cell \u001b[0;32mIn[98], line 1\u001b[0m\n\u001b[0;32m----> 1\u001b[0m \u001b[38;5;28;43mtype\u001b[39;49m\u001b[43m(\u001b[49m\u001b[38;5;241;43m25\u001b[39;49m\u001b[43m)\u001b[49m\n",
      "\u001b[0;31mTypeError\u001b[0m: 'dict' object is not callable"
     ]
    }
   ],
   "source": [
    "type(25)"
   ]
  },
  {
   "cell_type": "code",
   "execution_count": 105,
   "id": "92195782-4694-48bf-ac6b-313e65d2adb2",
   "metadata": {},
   "outputs": [],
   "source": [
    "name=\"sonu\""
   ]
  },
  {
   "cell_type": "code",
   "execution_count": 107,
   "id": "1895e01a-b53e-41d0-87d3-40b8c5917065",
   "metadata": {},
   "outputs": [
    {
     "ename": "TypeError",
     "evalue": "'dict' object is not callable",
     "output_type": "error",
     "traceback": [
      "\u001b[0;31m---------------------------------------------------------------------------\u001b[0m",
      "\u001b[0;31mTypeError\u001b[0m                                 Traceback (most recent call last)",
      "Cell \u001b[0;32mIn[107], line 1\u001b[0m\n\u001b[0;32m----> 1\u001b[0m \u001b[38;5;28;43mtype\u001b[39;49m\u001b[43m(\u001b[49m\u001b[43mname\u001b[49m\u001b[43m)\u001b[49m\n",
      "\u001b[0;31mTypeError\u001b[0m: 'dict' object is not callable"
     ]
    }
   ],
   "source": [
    "a=20"
   ]
  },
  {
   "cell_type": "code",
   "execution_count": 108,
   "id": "9c001d71-1b67-4a2f-978b-9879a944d115",
   "metadata": {},
   "outputs": [
    {
     "data": {
      "text/plain": [
       "1"
      ]
     },
     "execution_count": 108,
     "metadata": {},
     "output_type": "execute_result"
    }
   ],
   "source": [
    "a"
   ]
  },
  {
   "cell_type": "code",
   "execution_count": 109,
   "id": "3ca5a00d-211e-4d74-93af-21b302ff7dc2",
   "metadata": {},
   "outputs": [],
   "source": [
    "a=20"
   ]
  },
  {
   "cell_type": "code",
   "execution_count": null,
   "id": "0f23241a-9acc-43c9-8b35-e165bff887ef",
   "metadata": {},
   "outputs": [
    {
     "data": {
      "text/plain": [
       "20"
      ]
     },
     "execution_count": 110,
     "metadata": {},
     "output_type": "execute_result"
    }
   ],
   "source": [
    "a"
   ]
  },
  {
   "cell_type": "code",
   "execution_count": null,
   "id": "2bfbf79b-371f-49c9-b10a-af6f20db5739",
   "metadata": {},
   "outputs": [
    {
     "data": {
      "text/plain": [
       "{}"
      ]
     },
     "execution_count": 111,
     "metadata": {},
     "output_type": "execute_result"
    }
   ],
   "source": []
  }
 ],
 "metadata": {
  "kernelspec": {
   "display_name": "Python 3 (ipykernel)",
   "language": "python",
   "name": "python3"
  },
  "language_info": {
   "codemirror_mode": {
    "name": "ipython",
    "version": 3
   },
   "file_extension": ".py",
   "mimetype": "text/x-python",
   "name": "python",
   "nbconvert_exporter": "python",
   "pygments_lexer": "ipython3",
   "version": "3.10.8"
  }
 },
 "nbformat": 4,
 "nbformat_minor": 5
}
