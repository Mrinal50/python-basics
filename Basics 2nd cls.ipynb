{
 "cells": [
  {
   "cell_type": "markdown",
   "id": "b14c6ec8-d642-4b42-a7ea-bd5ec7f06d8e",
   "metadata": {},
   "source": [
    "#CONTROL FLOWS.. "
   ]
  },
  {
   "cell_type": "code",
   "execution_count": null,
   "id": "93ef27f5-58fc-4be2-9961-9a266c511e56",
   "metadata": {},
   "outputs": [],
   "source": [
    "a=10 "
   ]
  },
  {
   "cell_type": "code",
   "execution_count": null,
   "id": "cc7df2bd-f42a-498e-a402-e4f45dd3daff",
   "metadata": {},
   "outputs": [],
   "source": [
    "#we dont have to define data-type like other progg, in python it detect automatically, eg: its  dynamic language"
   ]
  },
  {
   "cell_type": "code",
   "execution_count": null,
   "id": "d83d7e27-d218-4dd9-89d3-17813983cece",
   "metadata": {},
   "outputs": [],
   "source": [
    "STRING NOTHING BUT A SEQUENCE OF CHARACTER AND ITS WRITTEN UNDER \"\" LIKE \"RAMESH\"."
   ]
  },
  {
   "cell_type": "code",
   "execution_count": null,
   "id": "ad7ce529-1a41-4a36-bcc5-2c6813eadc28",
   "metadata": {},
   "outputs": [],
   "source": [
    "a"
   ]
  },
  {
   "cell_type": "code",
   "execution_count": null,
   "id": "60749f27-b2aa-4543-bc0a-5742f67d1506",
   "metadata": {},
   "outputs": [],
   "source": [
    "type(a)"
   ]
  },
  {
   "cell_type": "code",
   "execution_count": null,
   "id": "a4e7fe73-1da0-4d5b-a6b5-1cb281f0aa1d",
   "metadata": {},
   "outputs": [],
   "source": [
    "typecasting-onvert string into int."
   ]
  },
  {
   "cell_type": "code",
   "execution_count": null,
   "id": "ffd3195f-7afc-4fa6-91ec-e35bdea954ff",
   "metadata": {},
   "outputs": [],
   "source": [
    "int('123')"
   ]
  },
  {
   "cell_type": "code",
   "execution_count": null,
   "id": "85a81a40-85bb-4661-93d7-de47c66271cb",
   "metadata": {},
   "outputs": [],
   "source": [
    "int(\"abc\")"
   ]
  },
  {
   "cell_type": "code",
   "execution_count": null,
   "id": "0140fdbf-d5b9-49a9-9402-e03b3b818707",
   "metadata": {},
   "outputs": [],
   "source": [
    "print(\"hello guys\")"
   ]
  },
  {
   "cell_type": "code",
   "execution_count": null,
   "id": "25ba78f3-1c4e-4efd-89c5-08f50b9a352a",
   "metadata": {},
   "outputs": [],
   "source": [
    "print(123)"
   ]
  },
  {
   "cell_type": "code",
   "execution_count": null,
   "id": "45cbdf1d-60c3-42b9-bb46-c8b842c38b06",
   "metadata": {},
   "outputs": [],
   "source": [
    "#ways of print--"
   ]
  },
  {
   "cell_type": "code",
   "execution_count": null,
   "id": "3e0867b3-f816-485a-99da-0e500521bab1",
   "metadata": {},
   "outputs": [],
   "source": [
    "age=32\n",
    "print(\"my age is:\",age)"
   ]
  },
  {
   "cell_type": "code",
   "execution_count": null,
   "id": "522efbd1-6c0e-48eb-a426-4d03002ad1a0",
   "metadata": {},
   "outputs": [],
   "source": [
    "print(\"my age is:{age}\")"
   ]
  },
  {
   "cell_type": "code",
   "execution_count": null,
   "id": "971f6bcd-4bec-41d2-a92e-3a82be25a446",
   "metadata": {},
   "outputs": [],
   "source": [
    "#formating"
   ]
  },
  {
   "cell_type": "code",
   "execution_count": null,
   "id": "d600a383-301b-4021-adcc-f6512aa66cef",
   "metadata": {},
   "outputs": [],
   "source": [
    "print(f\"my age is:{age}\")"
   ]
  },
  {
   "cell_type": "code",
   "execution_count": null,
   "id": "bc19cf77-d1be-4601-a175-3c6993d4f8ac",
   "metadata": {},
   "outputs": [],
   "source": [
    "print(\"my age is {}\".format(age))"
   ]
  },
  {
   "cell_type": "code",
   "execution_count": null,
   "id": "cf9067ab-6574-49ee-a5f6-c6638f19ab5a",
   "metadata": {},
   "outputs": [],
   "source": [
    "name='sonu'\n",
    "age=32\n",
    "print(\"my name is:\",name\")\n",
    "print(\"and age is:\",age\")"
   ]
  },
  {
   "cell_type": "code",
   "execution_count": null,
   "id": "0cf091e8-2ddb-4ed5-a2ff-09d161525411",
   "metadata": {},
   "outputs": [],
   "source": []
  },
  {
   "cell_type": "code",
   "execution_count": null,
   "id": "6c2f92c2-7753-4daa-99b8-7a040c2596d3",
   "metadata": {},
   "outputs": [],
   "source": [
    "name='sonu'\n",
    "age=32\n",
    "print(\"my name is {} and age is {}\".format(name,age))"
   ]
  },
  {
   "cell_type": "code",
   "execution_count": null,
   "id": "335850d8-3e86-4b40-8a63-b3319d6a4f10",
   "metadata": {},
   "outputs": [],
   "source": [
    "\n",
    "print(\"my name is {} and age is {}\".format(age,name))"
   ]
  },
  {
   "cell_type": "code",
   "execution_count": null,
   "id": "1e3c59d8-81c9-48ba-b550-88eb8844b4cb",
   "metadata": {},
   "outputs": [],
   "source": [
    "\n",
    "print(\"my name is {firstname} and age is {firstage}\".format(firstage=age,firstname=name,))"
   ]
  },
  {
   "cell_type": "code",
   "execution_count": null,
   "id": "16261bb7-9478-40fe-8c39-e695df82b1cd",
   "metadata": {},
   "outputs": [],
   "source": [
    "name=\"krish naik\"\n",
    "age=32\n",
    "degree=\"BE\"\n",
    "\"my age is 32 and i have completed: my degree of BE tech with name of Krish\""
   ]
  },
  {
   "cell_type": "code",
   "execution_count": null,
   "id": "6a988d48-9785-428a-9dca-f7f39951c4e6",
   "metadata": {},
   "outputs": [],
   "source": [
    "print(\"my age is {} and i have completed: my degree of {} with name of {}\".format(age,degree,name))"
   ]
  },
  {
   "cell_type": "code",
   "execution_count": null,
   "id": "4409ff83-ef54-465a-8abc-4c04cb394106",
   "metadata": {},
   "outputs": [],
   "source": [
    "print(f\"my age is {age} and ihave completed: my degree of {degree} with the name of {name}\")"
   ]
  },
  {
   "cell_type": "code",
   "execution_count": null,
   "id": "502e74e3-a9c0-465e-9ffc-f9d0548526e1",
   "metadata": {},
   "outputs": [],
   "source": []
  },
  {
   "cell_type": "code",
   "execution_count": null,
   "id": "0713f8a4-3da0-4bf5-8ed6-ec1b1c47db71",
   "metadata": {},
   "outputs": [],
   "source": [
    "control flow\n",
    "decesion making statements\n",
    "1.if\n",
    "2.if else\n",
    "3.if elif else\n",
    "4.Nested if\n",
    "5. single statement suites.\n"
   ]
  },
  {
   "cell_type": "markdown",
   "id": "b384337b-c476-47e1-b5e3-a4c417206016",
   "metadata": {},
   "source": [
    "#if statements."
   ]
  },
  {
   "cell_type": "code",
   "execution_count": null,
   "id": "a8506bbb-0532-423f-9810-c70849225bb8",
   "metadata": {},
   "outputs": [],
   "source": [
    "age=18\n",
    "if age>=18:\n",
    "    print('you are eligible to vote')"
   ]
  },
  {
   "cell_type": "code",
   "execution_count": null,
   "id": "020b4a57-6d0a-44ad-bf14-4a6c34e83590",
   "metadata": {},
   "outputs": [],
   "source": [
    "if age<=18:\n",
    "    print('you are not eligible to vote')"
   ]
  },
  {
   "cell_type": "code",
   "execution_count": null,
   "id": "eab85703-1623-453e-bf27-82925eaff169",
   "metadata": {},
   "outputs": [],
   "source": [
    "age=18\n",
    "if age<18:\n",
    "    print('you are eligible to vote')"
   ]
  },
  {
   "cell_type": "code",
   "execution_count": null,
   "id": "f83af80f-6ccf-4ffe-85ad-1761f973aa45",
   "metadata": {},
   "outputs": [],
   "source": [
    "nothing got printed because it false or not satisfied. "
   ]
  },
  {
   "cell_type": "markdown",
   "id": "e1760786-806b-4571-b277-4977fdce4061",
   "metadata": {},
   "source": [
    "input() function write input and execute it will open a promt by default datatype input function on prompt box is string."
   ]
  },
  {
   "cell_type": "code",
   "execution_count": null,
   "id": "ced2fd6f-f24b-4d85-adb5-cedc294099d0",
   "metadata": {},
   "outputs": [],
   "source": [
    "input()"
   ]
  },
  {
   "cell_type": "code",
   "execution_count": null,
   "id": "34b1236c-6621-4188-ab8d-db91d003ae2a",
   "metadata": {},
   "outputs": [],
   "source": [
    "mention a name on promt box"
   ]
  },
  {
   "cell_type": "code",
   "execution_count": 8,
   "id": "343d17ec-ea8c-4c1c-afb1-ad7bf1e799d5",
   "metadata": {},
   "outputs": [
    {
     "name": "stdin",
     "output_type": "stream",
     "text": [
      "enter the name  asha\n"
     ]
    }
   ],
   "source": [
    "name=input('enter the name ')"
   ]
  },
  {
   "cell_type": "code",
   "execution_count": 5,
   "id": "ac1178b4-d395-4034-a26e-0daebf27812c",
   "metadata": {},
   "outputs": [
    {
     "name": "stdin",
     "output_type": "stream",
     "text": [
      "enter the name  sonu\n"
     ]
    }
   ],
   "source": [
    "name=input('enter the name ')"
   ]
  },
  {
   "cell_type": "code",
   "execution_count": null,
   "id": "834668ea-aa98-43a0-8836-c480c0b187b9",
   "metadata": {},
   "outputs": [],
   "source": [
    "name=input('enter the name ')"
   ]
  },
  {
   "cell_type": "code",
   "execution_count": null,
   "id": "289ebb1c-efba-4536-aa6a-5e022489549f",
   "metadata": {},
   "outputs": [],
   "source": [
    "#type casting helps a string conversion to int value"
   ]
  },
  {
   "cell_type": "code",
   "execution_count": null,
   "id": "2431644d-15fb-4c77-91d3-f51aa8015a5a",
   "metadata": {},
   "outputs": [
    {
     "ename": "SyntaxError",
     "evalue": "unterminated string literal (detected at line 1) (3084690351.py, line 1)",
     "output_type": "error",
     "traceback": [
      "\u001b[0;36m  Cell \u001b[0;32mIn[4], line 1\u001b[0;36m\u001b[0m\n\u001b[0;31m    age=int(input('enter your aage))\u001b[0m\n\u001b[0m                  ^\u001b[0m\n\u001b[0;31mSyntaxError\u001b[0m\u001b[0;31m:\u001b[0m unterminated string literal (detected at line 1)\n"
     ]
    }
   ],
   "source": [
    "age=int(input('enter your aage))"
   ]
  },
  {
   "cell_type": "code",
   "execution_count": null,
   "id": "6f95b228-f2b9-4c7b-b5ee-2510aa9750a6",
   "metadata": {},
   "outputs": [],
   "source": [
    "task \n",
    "#take a input of age \n",
    "#check wheather age >=18 and age<=45\n",
    "#display msg you are a fit guy.\n"
   ]
  },
  {
   "cell_type": "code",
   "execution_count": null,
   "id": "cd74807e-1dab-4ee0-98fd-8b57c92b461f",
   "metadata": {},
   "outputs": [
    {
     "name": "stdin",
     "output_type": "stream",
     "text": [
      "enter the age 24\n"
     ]
    },
    {
     "name": "stdout",
     "output_type": "stream",
     "text": [
      "you are a fitguy\n"
     ]
    }
   ],
   "source": [
    "age=int(input('enter the age'))\n",
    "if age>=18 and age<=45:\n",
    "    print ('you are a fit guy')"
   ]
  },
  {
   "cell_type": "code",
   "execution_count": null,
   "id": "a8532ab4-2b64-4c80-8c8a-fc77a42aafdc",
   "metadata": {},
   "outputs": [],
   "source": [
    "##if else statement "
   ]
  },
  {
   "cell_type": "code",
   "execution_count": 7,
   "id": "8efcc5b8-b096-4bbc-a04c-e78e462a2d97",
   "metadata": {},
   "outputs": [
    {
     "name": "stdin",
     "output_type": "stream",
     "text": [
      "enter the name 50\n"
     ]
    },
    {
     "name": "stdout",
     "output_type": "stream",
     "text": [
      "you are not healthy\n"
     ]
    }
   ],
   "source": [
    "age=int(input('enter the name'))\n",
    "if age>=18 and age<=45:\n",
    "    print('you are afit guy')\n",
    "else :\n",
    "    print('you are not healthy')"
   ]
  },
  {
   "cell_type": "code",
   "execution_count": null,
   "id": "61697d3c-4781-4510-96b0-023c44dd0828",
   "metadata": {},
   "outputs": [],
   "source": [
    "#mall\n",
    "#you buy product  >1000 u wil get 20%off\n",
    " you buy product <= 1000 u will get 10% off\n",
    "    #print the product price after discount\n",
    "    "
   ]
  },
  {
   "cell_type": "code",
   "execution_count": 1,
   "id": "39c90998-54f6-4a4a-a135-ab89e5116f2b",
   "metadata": {},
   "outputs": [
    {
     "name": "stdin",
     "output_type": "stream",
     "text": [
      "enter the price 5000\n"
     ]
    },
    {
     "name": "stdout",
     "output_type": "stream",
     "text": [
      "the price of product is 4000.0\n"
     ]
    }
   ],
   "source": [
    "product_price=int(input('enter the price'))\n",
    "if product_price>1000:\n",
    "    print('the price of product is {}'.format(product_price*0.8))\n",
    "else:\n",
    "    print('the price of product is {}'.format(product_price*0.9))"
   ]
  },
  {
   "cell_type": "code",
   "execution_count": null,
   "id": "833a731d-ec23-426b-ba71-ff45e8e75577",
   "metadata": {},
   "outputs": [],
   "source": []
  },
  {
   "cell_type": "code",
   "execution_count": 2,
   "id": "8c4b0b28-ca9a-4269-adc5-069575c1eab7",
   "metadata": {},
   "outputs": [
    {
     "name": "stdin",
     "output_type": "stream",
     "text": [
      "enter the price 900\n"
     ]
    },
    {
     "name": "stdout",
     "output_type": "stream",
     "text": [
      "the price of product is 810.0\n"
     ]
    }
   ],
   "source": [
    "product_price=int(input('enter the price'))\n",
    "if product_price>1000:\n",
    "    print('the price of product is {}'.format(product_price*0.8))\n",
    "else:\n",
    "    print('the price of product is {}'.format(product_price*0.9))"
   ]
  },
  {
   "cell_type": "code",
   "execution_count": null,
   "id": "a9d5db9f-a400-4b56-a82c-b3429a21a308",
   "metadata": {},
   "outputs": [],
   "source": [
    "in f format"
   ]
  },
  {
   "cell_type": "code",
   "execution_count": 6,
   "id": "9a5450ca-d76b-4b08-bce2-822a174064f7",
   "metadata": {},
   "outputs": [
    {
     "name": "stdin",
     "output_type": "stream",
     "text": [
      "enter the price 3500\n"
     ]
    },
    {
     "name": "stdout",
     "output_type": "stream",
     "text": [
      "the price of product is 2800.0\n"
     ]
    }
   ],
   "source": [
    "product_price=int(input('enter the price'))\n",
    "if product_price>1000:\n",
    "    print(f'the price of product is {product_price*0.8}')\n",
    "else:\n",
    "    print(f'the price of product is {product_price*0.9}')"
   ]
  },
  {
   "cell_type": "code",
   "execution_count": null,
   "id": "06cd86fa-dac1-42e7-840d-52e40312993a",
   "metadata": {},
   "outputs": [],
   "source": [
    "more condition \n",
    "#if price >3000rs 20%off\n",
    "#if price >=2000rs and <=3000rs 30%off\n",
    "#price <=1000rs and <=2000rs 40%off."
   ]
  },
  {
   "cell_type": "code",
   "execution_count": 11,
   "id": "52fad8a3-a635-436d-8924-1779c7a817b9",
   "metadata": {},
   "outputs": [
    {
     "name": "stdin",
     "output_type": "stream",
     "text": [
      "enter the price 2999\n"
     ]
    },
    {
     "name": "stdout",
     "output_type": "stream",
     "text": [
      "the price of product is 2399.2000000000003\n"
     ]
    }
   ],
   "source": [
    "product_price=int(input('enter the price'))\n",
    "if product_price>1000:\n",
    "    print(f'the price of product is {product_price*0.8}')\n",
    "elif product_price>=2000 and product_price<=3000:\n",
    "    if product_price==2999:\n",
    "            print('congratulations you get a gift')\n",
    "    print(f'the price of product is {product_price*0.7}')\n",
    "elif  product_>=100 and product_price<=2000:\n",
    "    print(f'the price of product is {product-price*0.6}') \n",
    "else:\n",
    "    print('lets drink tea')"
   ]
  },
  {
   "cell_type": "code",
   "execution_count": null,
   "id": "8687e89d-1483-4610-b506-a2b0079b599d",
   "metadata": {},
   "outputs": [],
   "source": []
  },
  {
   "cell_type": "code",
   "execution_count": null,
   "id": "f41a9422-1d0a-4df6-a934-709ad3af638e",
   "metadata": {},
   "outputs": [],
   "source": [
    "product_price=int(input('enter the price'))\n",
    "if product_price>1000:\n",
    "    print('the price of product is {}'.format(product_price*0.8))\n",
    "elif product_price>=2000 and product_price<=3000:\n",
    "        print(f'the price of product is {product_price*0.7}')\n",
    "else:\n",
    "    print('the price of product is {}'.format(product_price*0.9))"
   ]
  },
  {
   "cell_type": "code",
   "execution_count": 7,
   "id": "0189c084-6179-41ee-b166-4c13ded1b606",
   "metadata": {},
   "outputs": [
    {
     "name": "stdin",
     "output_type": "stream",
     "text": [
      "enter the number 300\n"
     ]
    },
    {
     "name": "stdout",
     "output_type": "stream",
     "text": [
      "value is less than equal to 999\n"
     ]
    }
   ],
   "source": [
    "#single statement value.\n",
    "val=int(input('enter the number'))\n",
    "if(val<=999):\n",
    "    print('value is less than equal to 999')"
   ]
  },
  {
   "cell_type": "code",
   "execution_count": null,
   "id": "209a9345-2e88-40c0-85e9-e271298a89f0",
   "metadata": {},
   "outputs": [],
   "source": []
  },
  {
   "cell_type": "code",
   "execution_count": null,
   "id": "9a4beb97-3c06-4e38-9d92-717dd4117a77",
   "metadata": {},
   "outputs": [],
   "source": []
  }
 ],
 "metadata": {
  "kernelspec": {
   "display_name": "Python 3 (ipykernel)",
   "language": "python",
   "name": "python3"
  },
  "language_info": {
   "codemirror_mode": {
    "name": "ipython",
    "version": 3
   },
   "file_extension": ".py",
   "mimetype": "text/x-python",
   "name": "python",
   "nbconvert_exporter": "python",
   "pygments_lexer": "ipython3",
   "version": "3.10.8"
  }
 },
 "nbformat": 4,
 "nbformat_minor": 5
}
