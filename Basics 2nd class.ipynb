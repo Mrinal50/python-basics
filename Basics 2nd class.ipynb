{
 "cells": [
  {
   "cell_type": "markdown",
   "id": "b14c6ec8-d642-4b42-a7ea-bd5ec7f06d8e",
   "metadata": {},
   "source": [
    "#CONTROL FLOWS.. "
   ]
  },
  {
   "cell_type": "code",
   "execution_count": null,
   "id": "93ef27f5-58fc-4be2-9961-9a266c511e56",
   "metadata": {},
   "outputs": [],
   "source": [
    "a=10 "
   ]
  },
  {
   "cell_type": "code",
   "execution_count": null,
   "id": "cc7df2bd-f42a-498e-a402-e4f45dd3daff",
   "metadata": {},
   "outputs": [],
   "source": [
    "#we dont have to define data-type like other progg, in python it detect automatically, eg: its  dynamic language\n",
    "# it will automatically recognise weather it is int , str, bool,etc."
   ]
  },
  {
   "cell_type": "code",
   "execution_count": null,
   "id": "d83d7e27-d218-4dd9-89d3-17813983cece",
   "metadata": {},
   "outputs": [],
   "source": [
    "STRING NOTHING BUT A SEQUENCE OF CHARACTER AND ITS WRITTEN UNDER \"\" LIKE \"RAMESH\"."
   ]
  },
  {
   "cell_type": "code",
   "execution_count": 7,
   "id": "d690a3c1-582b-413d-a0dc-937c0ec487f8",
   "metadata": {},
   "outputs": [],
   "source": [
    "a=10"
   ]
  },
  {
   "cell_type": "code",
   "execution_count": 8,
   "id": "60749f27-b2aa-4543-bc0a-5742f67d1506",
   "metadata": {},
   "outputs": [
    {
     "data": {
      "text/plain": [
       "10"
      ]
     },
     "execution_count": 8,
     "metadata": {},
     "output_type": "execute_result"
    }
   ],
   "source": [
    "a"
   ]
  },
  {
   "cell_type": "code",
   "execution_count": 10,
   "id": "c660a360-3163-4d43-b1ee-75b11a451cb1",
   "metadata": {},
   "outputs": [
    {
     "data": {
      "text/plain": [
       "int"
      ]
     },
     "execution_count": 10,
     "metadata": {},
     "output_type": "execute_result"
    }
   ],
   "source": [
    "type(a)"
   ]
  },
  {
   "cell_type": "code",
   "execution_count": 16,
   "id": "886857f5-3e28-4c48-b9c6-7900b755e9eb",
   "metadata": {},
   "outputs": [],
   "source": [
    "s=('cute_dog')"
   ]
  },
  {
   "cell_type": "code",
   "execution_count": 17,
   "id": "e1a15e86-dbe1-4b98-b959-8b1444029e06",
   "metadata": {},
   "outputs": [
    {
     "data": {
      "text/plain": [
       "str"
      ]
     },
     "execution_count": 17,
     "metadata": {},
     "output_type": "execute_result"
    }
   ],
   "source": [
    "type(s)"
   ]
  },
  {
   "cell_type": "code",
   "execution_count": null,
   "id": "fe6d680c-08c0-43fe-8268-88d0bb63ac78",
   "metadata": {},
   "outputs": [],
   "source": [
    "here s is a variable (tempory storage space or folder like)"
   ]
  },
  {
   "cell_type": "code",
   "execution_count": null,
   "id": "a4e7fe73-1da0-4d5b-a6b5-1cb281f0aa1d",
   "metadata": {},
   "outputs": [],
   "source": [
    "typecasting-onvert string into int."
   ]
  },
  {
   "cell_type": "code",
   "execution_count": 18,
   "id": "ffd3195f-7afc-4fa6-91ec-e35bdea954ff",
   "metadata": {},
   "outputs": [
    {
     "data": {
      "text/plain": [
       "123"
      ]
     },
     "execution_count": 18,
     "metadata": {},
     "output_type": "execute_result"
    }
   ],
   "source": [
    "int('123')"
   ]
  },
  {
   "cell_type": "code",
   "execution_count": 21,
   "id": "0140fdbf-d5b9-49a9-9402-e03b3b818707",
   "metadata": {},
   "outputs": [
    {
     "name": "stdout",
     "output_type": "stream",
     "text": [
      "hello guys\n"
     ]
    }
   ],
   "source": [
    "print(\"hello guys\")"
   ]
  },
  {
   "cell_type": "code",
   "execution_count": 22,
   "id": "25ba78f3-1c4e-4efd-89c5-08f50b9a352a",
   "metadata": {},
   "outputs": [
    {
     "name": "stdout",
     "output_type": "stream",
     "text": [
      "123\n"
     ]
    }
   ],
   "source": [
    "print(123)"
   ]
  },
  {
   "cell_type": "code",
   "execution_count": 23,
   "id": "852a4124-1428-450f-af23-cb7a568d9a1a",
   "metadata": {},
   "outputs": [
    {
     "data": {
      "text/plain": [
       "builtin_function_or_method"
      ]
     },
     "execution_count": 23,
     "metadata": {},
     "output_type": "execute_result"
    }
   ],
   "source": [
    "type(print)"
   ]
  },
  {
   "cell_type": "code",
   "execution_count": null,
   "id": "45cbdf1d-60c3-42b9-bb46-c8b842c38b06",
   "metadata": {},
   "outputs": [],
   "source": [
    "ways of print--"
   ]
  },
  {
   "cell_type": "code",
   "execution_count": 24,
   "id": "3e0867b3-f816-485a-99da-0e500521bab1",
   "metadata": {},
   "outputs": [
    {
     "name": "stdout",
     "output_type": "stream",
     "text": [
      "my age is: 32\n"
     ]
    }
   ],
   "source": [
    "age=32\n",
    "print(\"my age is:\",age)"
   ]
  },
  {
   "cell_type": "code",
   "execution_count": 28,
   "id": "522efbd1-6c0e-48eb-a426-4d03002ad1a0",
   "metadata": {},
   "outputs": [
    {
     "name": "stdout",
     "output_type": "stream",
     "text": [
      "my age is:,{age}\n"
     ]
    }
   ],
   "source": [
    "print(\"my age is:,{age}\")"
   ]
  },
  {
   "cell_type": "code",
   "execution_count": null,
   "id": "971f6bcd-4bec-41d2-a92e-3a82be25a446",
   "metadata": {},
   "outputs": [],
   "source": [
    "#formating"
   ]
  },
  {
   "cell_type": "code",
   "execution_count": 31,
   "id": "d600a383-301b-4021-adcc-f6512aa66cef",
   "metadata": {},
   "outputs": [
    {
     "name": "stdout",
     "output_type": "stream",
     "text": [
      "my age is:32\n"
     ]
    }
   ],
   "source": [
    "print(f\"my age is:{age}\")"
   ]
  },
  {
   "cell_type": "code",
   "execution_count": 32,
   "id": "bc19cf77-d1be-4601-a175-3c6993d4f8ac",
   "metadata": {},
   "outputs": [
    {
     "name": "stdout",
     "output_type": "stream",
     "text": [
      "my age is 32\n"
     ]
    }
   ],
   "source": [
    "print(\"my age is {}\".format(age))"
   ]
  },
  {
   "cell_type": "code",
   "execution_count": 30,
   "id": "cf9067ab-6574-49ee-a5f6-c6638f19ab5a",
   "metadata": {},
   "outputs": [
    {
     "name": "stdout",
     "output_type": "stream",
     "text": [
      "my name is: sonu\n",
      "and age is: 32\n"
     ]
    }
   ],
   "source": [
    "name='sonu'\n",
    "age=32\n",
    "print(\"my name is:\",name)\n",
    "print(\"and age is:\",age)"
   ]
  },
  {
   "cell_type": "code",
   "execution_count": 33,
   "id": "6c2f92c2-7753-4daa-99b8-7a040c2596d3",
   "metadata": {},
   "outputs": [
    {
     "name": "stdout",
     "output_type": "stream",
     "text": [
      "my name is sonu and age is 32\n"
     ]
    }
   ],
   "source": [
    "name='sonu'\n",
    "age=32\n",
    "print(\"my name is {} and age is {}\".format(name,age))"
   ]
  },
  {
   "cell_type": "code",
   "execution_count": 34,
   "id": "335850d8-3e86-4b40-8a63-b3319d6a4f10",
   "metadata": {},
   "outputs": [
    {
     "name": "stdout",
     "output_type": "stream",
     "text": [
      "my name is 32 and age is sonu\n"
     ]
    }
   ],
   "source": [
    "\n",
    "print(\"my name is {} and age is {}\".format(age,name))"
   ]
  },
  {
   "cell_type": "code",
   "execution_count": 35,
   "id": "1e3c59d8-81c9-48ba-b550-88eb8844b4cb",
   "metadata": {},
   "outputs": [
    {
     "name": "stdout",
     "output_type": "stream",
     "text": [
      "my name is sonu and age is 32\n"
     ]
    }
   ],
   "source": [
    "\n",
    "print(\"my name is {firstname} and age is {firstage}\".format(firstage=age,firstname=name,))"
   ]
  },
  {
   "cell_type": "code",
   "execution_count": 37,
   "id": "16261bb7-9478-40fe-8c39-e695df82b1cd",
   "metadata": {},
   "outputs": [
    {
     "data": {
      "text/plain": [
       "'my age is 32 and i have completed: my degree of BE tech with name of Krish'"
      ]
     },
     "execution_count": 37,
     "metadata": {},
     "output_type": "execute_result"
    }
   ],
   "source": [
    "name=\"krish naik\"\n",
    "age=32\n",
    "degree=\"BE\"\n",
    "\"my age is 32 and i have completed: my degree of BE tech with name of Krish\""
   ]
  },
  {
   "cell_type": "code",
   "execution_count": 38,
   "id": "6a988d48-9785-428a-9dca-f7f39951c4e6",
   "metadata": {},
   "outputs": [
    {
     "name": "stdout",
     "output_type": "stream",
     "text": [
      "my age is 32 and i have completed: my degree of BE with name of krish naik\n"
     ]
    }
   ],
   "source": [
    "print(\"my age is {} and i have completed: my degree of {} with name of {}\".format(age,degree,name))"
   ]
  },
  {
   "cell_type": "code",
   "execution_count": 39,
   "id": "4409ff83-ef54-465a-8abc-4c04cb394106",
   "metadata": {},
   "outputs": [
    {
     "name": "stdout",
     "output_type": "stream",
     "text": [
      "my age is 32 and ihave completed: my degree of BE with the name of krish naik\n"
     ]
    }
   ],
   "source": [
    "print(f\"my age is {age} and ihave completed: my degree of {degree} with the name of {name}\")"
   ]
  },
  {
   "cell_type": "code",
   "execution_count": null,
   "id": "502e74e3-a9c0-465e-9ffc-f9d0548526e1",
   "metadata": {},
   "outputs": [],
   "source": []
  },
  {
   "cell_type": "code",
   "execution_count": null,
   "id": "0713f8a4-3da0-4bf5-8ed6-ec1b1c47db71",
   "metadata": {},
   "outputs": [],
   "source": [
    "control flow\n",
    "decesion making statements\n",
    "1.if\n",
    "2.if else\n",
    "3.if elif else\n",
    "4.Nested if\n",
    "5. single statement suites.\n"
   ]
  },
  {
   "cell_type": "markdown",
   "id": "b384337b-c476-47e1-b5e3-a4c417206016",
   "metadata": {},
   "source": [
    "#if statements."
   ]
  },
  {
   "cell_type": "code",
   "execution_count": 40,
   "id": "a8506bbb-0532-423f-9810-c70849225bb8",
   "metadata": {},
   "outputs": [
    {
     "name": "stdout",
     "output_type": "stream",
     "text": [
      "you are eligible to vote\n"
     ]
    }
   ],
   "source": [
    "age=18\n",
    "if age>=18:\n",
    "    print('you are eligible to vote')"
   ]
  },
  {
   "cell_type": "code",
   "execution_count": 41,
   "id": "020b4a57-6d0a-44ad-bf14-4a6c34e83590",
   "metadata": {},
   "outputs": [
    {
     "name": "stdout",
     "output_type": "stream",
     "text": [
      "you are not eligible to vote\n"
     ]
    }
   ],
   "source": [
    "if age<=18:\n",
    "    print('you are not eligible to vote')"
   ]
  },
  {
   "cell_type": "code",
   "execution_count": 42,
   "id": "eab85703-1623-453e-bf27-82925eaff169",
   "metadata": {},
   "outputs": [],
   "source": [
    "age=18\n",
    "if age<18:\n",
    "    print('you are eligible to vote')"
   ]
  },
  {
   "cell_type": "code",
   "execution_count": null,
   "id": "a46eb15c-5efe-4a59-a8e3-42017a5aff64",
   "metadata": {},
   "outputs": [],
   "source": [
    "#nothing printed because condition unsatisfied."
   ]
  },
  {
   "cell_type": "markdown",
   "id": "e1760786-806b-4571-b277-4977fdce4061",
   "metadata": {},
   "source": [
    "input() function write input and execute it will open a promt by default datatype input function on prompt box is string."
   ]
  },
  {
   "cell_type": "code",
   "execution_count": null,
   "id": "ced2fd6f-f24b-4d85-adb5-cedc294099d0",
   "metadata": {},
   "outputs": [],
   "source": [
    "input()"
   ]
  },
  {
   "cell_type": "code",
   "execution_count": null,
   "id": "34b1236c-6621-4188-ab8d-db91d003ae2a",
   "metadata": {},
   "outputs": [],
   "source": [
    "mention a name on promt box"
   ]
  },
  {
   "cell_type": "code",
   "execution_count": 43,
   "id": "343d17ec-ea8c-4c1c-afb1-ad7bf1e799d5",
   "metadata": {},
   "outputs": [
    {
     "name": "stdin",
     "output_type": "stream",
     "text": [
      "enter the name  asha\n"
     ]
    }
   ],
   "source": [
    "name=input('enter the name ')"
   ]
  },
  {
   "cell_type": "code",
   "execution_count": 5,
   "id": "ac1178b4-d395-4034-a26e-0daebf27812c",
   "metadata": {},
   "outputs": [
    {
     "name": "stdin",
     "output_type": "stream",
     "text": [
      "enter the name  sonu\n"
     ]
    }
   ],
   "source": [
    "name=input('enter the name ')"
   ]
  },
  {
   "cell_type": "code",
   "execution_count": null,
   "id": "834668ea-aa98-43a0-8836-c480c0b187b9",
   "metadata": {},
   "outputs": [],
   "source": [
    "name=input('enter the name ')"
   ]
  },
  {
   "cell_type": "code",
   "execution_count": null,
   "id": "289ebb1c-efba-4536-aa6a-5e022489549f",
   "metadata": {},
   "outputs": [],
   "source": [
    "#type casting helps a string conversion to int value"
   ]
  },
  {
   "cell_type": "code",
   "execution_count": 44,
   "id": "2431644d-15fb-4c77-91d3-f51aa8015a5a",
   "metadata": {},
   "outputs": [
    {
     "name": "stdin",
     "output_type": "stream",
     "text": [
      "enter your age 29\n"
     ]
    }
   ],
   "source": [
    "age=int(input('enter your age'))"
   ]
  },
  {
   "cell_type": "code",
   "execution_count": null,
   "id": "6f95b228-f2b9-4c7b-b5ee-2510aa9750a6",
   "metadata": {},
   "outputs": [],
   "source": [
    "task \n",
    "#take a input of age \n",
    "#check wheather age >=18 and age<=45\n",
    "#display msg you are a fit guy.\n"
   ]
  },
  {
   "cell_type": "code",
   "execution_count": 45,
   "id": "cd74807e-1dab-4ee0-98fd-8b57c92b461f",
   "metadata": {},
   "outputs": [
    {
     "name": "stdin",
     "output_type": "stream",
     "text": [
      "enter the age 45\n"
     ]
    },
    {
     "name": "stdout",
     "output_type": "stream",
     "text": [
      "you are a fit guy\n"
     ]
    }
   ],
   "source": [
    "age=int(input('enter the age'))\n",
    "if age>=18 and age<=45:\n",
    "    print ('you are a fit guy')"
   ]
  },
  {
   "cell_type": "code",
   "execution_count": null,
   "id": "a8532ab4-2b64-4c80-8c8a-fc77a42aafdc",
   "metadata": {},
   "outputs": [],
   "source": [
    "##if else statement "
   ]
  },
  {
   "cell_type": "code",
   "execution_count": 7,
   "id": "8efcc5b8-b096-4bbc-a04c-e78e462a2d97",
   "metadata": {},
   "outputs": [
    {
     "name": "stdin",
     "output_type": "stream",
     "text": [
      "enter the name 50\n"
     ]
    },
    {
     "name": "stdout",
     "output_type": "stream",
     "text": [
      "you are not healthy\n"
     ]
    }
   ],
   "source": [
    "age=int(input('enter the name'))\n",
    "if age>=18 and age<=45:\n",
    "    print('you are afit guy')\n",
    "else :\n",
    "    print('you are not healthy')"
   ]
  },
  {
   "cell_type": "code",
   "execution_count": null,
   "id": "61697d3c-4781-4510-96b0-023c44dd0828",
   "metadata": {},
   "outputs": [],
   "source": [
    "#mall\n",
    "#you buy product  >1000 u wil get 20%off\n",
    " you buy product <= 1000 u will get 10% off\n",
    "    #print the product price after discount\n",
    "    "
   ]
  },
  {
   "cell_type": "code",
   "execution_count": 1,
   "id": "39c90998-54f6-4a4a-a135-ab89e5116f2b",
   "metadata": {},
   "outputs": [
    {
     "name": "stdin",
     "output_type": "stream",
     "text": [
      "enter the price 5000\n"
     ]
    },
    {
     "name": "stdout",
     "output_type": "stream",
     "text": [
      "the price of product is 4000.0\n"
     ]
    }
   ],
   "source": [
    "product_price=int(input('enter the price'))\n",
    "if product_price>1000:\n",
    "    print('the price of product is {}'.format(product_price*0.8))\n",
    "else:\n",
    "    print('the price of product is {}'.format(product_price*0.9))"
   ]
  },
  {
   "cell_type": "code",
   "execution_count": 2,
   "id": "8c4b0b28-ca9a-4269-adc5-069575c1eab7",
   "metadata": {},
   "outputs": [
    {
     "name": "stdin",
     "output_type": "stream",
     "text": [
      "enter the price 900\n"
     ]
    },
    {
     "name": "stdout",
     "output_type": "stream",
     "text": [
      "the price of product is 810.0\n"
     ]
    }
   ],
   "source": [
    "product_price=int(input('enter the price'))\n",
    "if product_price>1000:\n",
    "    print('the price of product is {}'.format(product_price*0.8))\n",
    "else:\n",
    "    print('the price of product is {}'.format(product_price*0.9))"
   ]
  },
  {
   "cell_type": "code",
   "execution_count": null,
   "id": "a9d5db9f-a400-4b56-a82c-b3429a21a308",
   "metadata": {},
   "outputs": [],
   "source": [
    "in f format"
   ]
  },
  {
   "cell_type": "code",
   "execution_count": 6,
   "id": "9a5450ca-d76b-4b08-bce2-822a174064f7",
   "metadata": {},
   "outputs": [
    {
     "name": "stdin",
     "output_type": "stream",
     "text": [
      "enter the price 3500\n"
     ]
    },
    {
     "name": "stdout",
     "output_type": "stream",
     "text": [
      "the price of product is 2800.0\n"
     ]
    }
   ],
   "source": [
    "product_price=int(input('enter the price'))\n",
    "if product_price>1000:\n",
    "    print(f'the price of product is {product_price*0.8}')\n",
    "else:\n",
    "    print(f'the price of product is {product_price*0.9}')"
   ]
  },
  {
   "cell_type": "code",
   "execution_count": null,
   "id": "3b07ca87-2e27-427e-bfb3-c5cad7ee8304",
   "metadata": {},
   "outputs": [],
   "source": [
    "# in normal format"
   ]
  },
  {
   "cell_type": "code",
   "execution_count": 47,
   "id": "52fcca83-6f05-4e34-aaa3-04d2601dc61c",
   "metadata": {},
   "outputs": [
    {
     "name": "stdin",
     "output_type": "stream",
     "text": [
      "enter the price 1500\n"
     ]
    },
    {
     "name": "stdout",
     "output_type": "stream",
     "text": [
      "the price of product is: 1200.0\n"
     ]
    }
   ],
   "source": [
    "product_price=int(input('enter the price'))\n",
    "if product_price>1000:\n",
    "    print('the price of product is:',product_price*0.8)\n",
    "else:\n",
    "    print('the price of product is:',product_price*0.9)"
   ]
  },
  {
   "cell_type": "code",
   "execution_count": null,
   "id": "06cd86fa-dac1-42e7-840d-52e40312993a",
   "metadata": {},
   "outputs": [],
   "source": [
    "more condition \n",
    "#if price >3000rs 20%off\n",
    "#if price >=2000rs and <=3000rs 30%off\n",
    "#price <=1000rs and <=2000rs 40%off."
   ]
  },
  {
   "cell_type": "code",
   "execution_count": 55,
   "id": "52fad8a3-a635-436d-8924-1779c7a817b9",
   "metadata": {},
   "outputs": [
    {
     "name": "stdin",
     "output_type": "stream",
     "text": [
      "enter the price 2300\n"
     ]
    },
    {
     "name": "stdout",
     "output_type": "stream",
     "text": [
      "the price of product is 1840.0\n",
      "lets drink tea\n"
     ]
    }
   ],
   "source": [
    "product_price=int(input('enter the price'))\n",
    "if product_price>1000:\n",
    "    print(f'the price of product is {product_price*0.8}')\n",
    "elif product_price>=2000 and product_price<=3000:\n",
    "       print(f'the price of product is {product_price*0.75}')\n",
    "if product_price==2999:\n",
    "    print('congratulations you get a gift')\n",
    "    print(f'the price of product is {product_price*0.7}')\n",
    "elif  product_price>=100 and product_price<=2000:\n",
    "    print(f'the price of product is {product-price*0.6}') \n",
    "else:\n",
    "    print('lets drink tea')"
   ]
  },
  {
   "cell_type": "code",
   "execution_count": 12,
   "id": "f41a9422-1d0a-4df6-a934-709ad3af638e",
   "metadata": {},
   "outputs": [
    {
     "name": "stdin",
     "output_type": "stream",
     "text": [
      "enter the price 2500\n"
     ]
    },
    {
     "name": "stdout",
     "output_type": "stream",
     "text": [
      "the price of product is 2000.0\n"
     ]
    }
   ],
   "source": [
    "product_price=int(input('enter the price'))\n",
    "if product_price>1000:\n",
    "    print('the price of product is {}'.format(product_price*0.8))\n",
    "elif product_price>=2000 and product_price<=3000:\n",
    "        print(f'the price of product is {product_price*0.7}')\n",
    "else:\n",
    "    print('the price of product is {}'.format(product_price*0.9))"
   ]
  },
  {
   "cell_type": "code",
   "execution_count": 7,
   "id": "0189c084-6179-41ee-b166-4c13ded1b606",
   "metadata": {},
   "outputs": [
    {
     "name": "stdin",
     "output_type": "stream",
     "text": [
      "enter the number 300\n"
     ]
    },
    {
     "name": "stdout",
     "output_type": "stream",
     "text": [
      "value is less than equal to 999\n"
     ]
    }
   ],
   "source": [
    "#single statement value.\n",
    "val=int(input('enter the number'))\n",
    "if(val<=999):\n",
    "    print('value is less than equal to 999')"
   ]
  },
  {
   "cell_type": "markdown",
   "id": "3626f967-c8fc-498c-9a73-21d8b217b12f",
   "metadata": {},
   "source": [
    "#loops"
   ]
  },
  {
   "cell_type": "code",
   "execution_count": null,
   "id": "ad916a24-d606-4bc5-8f04-ae7ce5c69d82",
   "metadata": {},
   "outputs": [],
   "source": [
    "1. while loop\n",
    "2.for loop\n",
    "3 nested loop\n",
    "4 loop control( break ,continue,pass)\n"
   ]
  },
  {
   "cell_type": "code",
   "execution_count": 12,
   "id": "59deada8-426c-40fd-a866-ebadf0622aee",
   "metadata": {},
   "outputs": [
    {
     "name": "stdout",
     "output_type": "stream",
     "text": [
      "18\n",
      "19\n",
      "20\n",
      "21\n",
      "22\n",
      "23\n",
      "24\n",
      "25\n",
      "sorry app;ication rejected\n"
     ]
    }
   ],
   "source": [
    "#while loops\n",
    "joining_age=18\n",
    "while joining_age<=25:\n",
    "    print(joining_age)\n",
    "    joining_age=joining_age+1\n",
    "else:\n",
    "    print('sorry app;ication rejected')"
   ]
  },
  {
   "cell_type": "code",
   "execution_count": 10,
   "id": "5eb4a554-a18e-4726-9533-2522abb5a6ac",
   "metadata": {},
   "outputs": [
    {
     "name": "stdout",
     "output_type": "stream",
     "text": [
      "900\n",
      "800\n",
      "700\n",
      "600\n",
      "500\n",
      "400\n",
      "300\n",
      "200\n",
      "100\n",
      "0\n",
      "put more money please\n"
     ]
    }
   ],
   "source": [
    "###atm machine with 1000 rs\n",
    "total_amount=1000\n",
    "while total_amount!=0:\n",
    "    total_amount =total_amount-100\n",
    "    print(total_amount)\n",
    "else:\n",
    "        print('put more money please')"
   ]
  },
  {
   "cell_type": "markdown",
   "id": "69662226-94bb-44cc-a1a3-56347514e797",
   "metadata": {},
   "source": [
    "for loop"
   ]
  },
  {
   "cell_type": "code",
   "execution_count": 5,
   "id": "c7526b9b-310e-42f7-b5e5-bbd47cb4fd0b",
   "metadata": {},
   "outputs": [],
   "source": [
    "lst=['krish',1,2,3,4,'apple','orange']"
   ]
  },
  {
   "cell_type": "code",
   "execution_count": 6,
   "id": "fd54408d-c19b-4adb-86e2-7f0456b393be",
   "metadata": {},
   "outputs": [
    {
     "data": {
      "text/plain": [
       "list"
      ]
     },
     "execution_count": 6,
     "metadata": {},
     "output_type": "execute_result"
    }
   ],
   "source": [
    "type(lst)"
   ]
  },
  {
   "cell_type": "code",
   "execution_count": null,
   "id": "ef6f9116-6e0f-40e5-a32f-46d776cd0b80",
   "metadata": {},
   "outputs": [],
   "source": [
    "#list is like a basket where u can put diffrent diff things. "
   ]
  },
  {
   "cell_type": "code",
   "execution_count": 13,
   "id": "f6aacdb7-fc8e-4850-9414-eb81c5a81790",
   "metadata": {},
   "outputs": [
    {
     "data": {
      "text/plain": [
       "'krish'"
      ]
     },
     "execution_count": 13,
     "metadata": {},
     "output_type": "execute_result"
    }
   ],
   "source": [
    "lst[0]"
   ]
  },
  {
   "cell_type": "code",
   "execution_count": 17,
   "id": "d7d43180-736d-45d7-8dfe-990285db79a8",
   "metadata": {},
   "outputs": [
    {
     "data": {
      "text/plain": [
       "1"
      ]
     },
     "execution_count": 17,
     "metadata": {},
     "output_type": "execute_result"
    }
   ],
   "source": [
    "lst[1]"
   ]
  },
  {
   "cell_type": "code",
   "execution_count": null,
   "id": "a55d5bbc-860b-480f-b329-183ae139b6be",
   "metadata": {},
   "outputs": [],
   "source": []
  },
  {
   "cell_type": "code",
   "execution_count": null,
   "id": "325cb045-7879-42e3-b928-2da46e0f78f2",
   "metadata": {},
   "outputs": [],
   "source": [
    "#for and a tempory variable x and a collection"
   ]
  },
  {
   "cell_type": "code",
   "execution_count": 18,
   "id": "0d949770-7125-4e66-8ae1-0d31746174ac",
   "metadata": {},
   "outputs": [
    {
     "name": "stdout",
     "output_type": "stream",
     "text": [
      "krish\n",
      "1\n",
      "2\n",
      "3\n",
      "4\n",
      "apple\n",
      "orange\n"
     ]
    }
   ],
   "source": [
    "for x in lst:\n",
    "    print(x)"
   ]
  },
  {
   "cell_type": "code",
   "execution_count": 20,
   "id": "727c110d-cab3-421d-bf38-ffee86ad6ac8",
   "metadata": {},
   "outputs": [],
   "source": [
    "fruits_list=['mango','cherry','apple','guava','potato']"
   ]
  },
  {
   "cell_type": "code",
   "execution_count": 25,
   "id": "b15ada72-80b6-454a-9d38-498777090dd3",
   "metadata": {},
   "outputs": [
    {
     "name": "stdout",
     "output_type": "stream",
     "text": [
      "mango\n",
      "cherry\n",
      "apple\n",
      "guava\n",
      "potato\n"
     ]
    }
   ],
   "source": [
    "for x in fruits_list:\n",
    "    print(x)"
   ]
  },
  {
   "cell_type": "code",
   "execution_count": 26,
   "id": "53d9c84e-e697-4607-818f-b2e4d861bc35",
   "metadata": {},
   "outputs": [
    {
     "name": "stdout",
     "output_type": "stream",
     "text": [
      "mango\n",
      "cherry\n",
      "the fruit is cherry\n",
      "apple\n",
      "guava\n",
      "potato\n"
     ]
    }
   ],
   "source": [
    "for x in fruits_list:\n",
    "    print(x)\n",
    "    if x=='cherry':\n",
    "        print('the fruit is cherry')"
   ]
  },
  {
   "cell_type": "code",
   "execution_count": 27,
   "id": "965ec609-cb34-4108-9919-de4c00a07852",
   "metadata": {},
   "outputs": [
    {
     "name": "stdout",
     "output_type": "stream",
     "text": [
      "mangocherrythe fruit is cherry\n",
      "appleguavapotato"
     ]
    }
   ],
   "source": [
    "for x in fruits_list:\n",
    "    print(x,end='')\n",
    "    if x=='cherry':\n",
    "        print('the fruit is cherry')"
   ]
  },
  {
   "cell_type": "code",
   "execution_count": null,
   "id": "cc532318-3f25-4f8f-b1e9-63d3b4df9f93",
   "metadata": {},
   "outputs": [],
   "source": [
    "#strings is also collection of elements"
   ]
  },
  {
   "cell_type": "code",
   "execution_count": 28,
   "id": "88ca57b5-6ed4-4956-8e81-8361bbfaddb8",
   "metadata": {},
   "outputs": [
    {
     "name": "stdout",
     "output_type": "stream",
     "text": [
      "m\n",
      "a\n",
      "n\n",
      "g\n",
      "o\n"
     ]
    }
   ],
   "source": [
    "fruit='mango'\n",
    "for x in fruit:\n",
    "    print(x)"
   ]
  },
  {
   "cell_type": "code",
   "execution_count": 29,
   "id": "d2651fc1-e74b-4b77-8b56-be0be4040127",
   "metadata": {},
   "outputs": [
    {
     "data": {
      "text/plain": [
       "'m'"
      ]
     },
     "execution_count": 29,
     "metadata": {},
     "output_type": "execute_result"
    }
   ],
   "source": [
    "fruit[0]"
   ]
  },
  {
   "cell_type": "code",
   "execution_count": 30,
   "id": "d02742bf-b093-4a28-97fb-91db7dee349d",
   "metadata": {},
   "outputs": [
    {
     "data": {
      "text/plain": [
       "'a'"
      ]
     },
     "execution_count": 30,
     "metadata": {},
     "output_type": "execute_result"
    }
   ],
   "source": [
    "fruit[1]"
   ]
  },
  {
   "cell_type": "code",
   "execution_count": null,
   "id": "175d11c1-bccc-4482-8013-c0dcffebdf7e",
   "metadata": {},
   "outputs": [],
   "source": [
    "###  Nested loops\n"
   ]
  },
  {
   "cell_type": "code",
   "execution_count": 31,
   "id": "ae2daad7-d10e-4173-9a5c-3b5e4dbe6b94",
   "metadata": {},
   "outputs": [
    {
     "data": {
      "text/plain": [
       "range(1, 6)"
      ]
     },
     "execution_count": 31,
     "metadata": {},
     "output_type": "execute_result"
    }
   ],
   "source": [
    "range(1,6)"
   ]
  },
  {
   "cell_type": "code",
   "execution_count": 33,
   "id": "9edd7b97-cc4c-48c9-bb6c-d7edaecfa1f3",
   "metadata": {},
   "outputs": [
    {
     "name": "stdout",
     "output_type": "stream",
     "text": [
      "1\n",
      "2\n",
      "3\n",
      "4\n",
      "5\n"
     ]
    }
   ],
   "source": [
    "for i in range (1,6):\n",
    "               print(i)"
   ]
  },
  {
   "cell_type": "code",
   "execution_count": 34,
   "id": "77303c2f-aff9-460b-80f5-403588eddb01",
   "metadata": {},
   "outputs": [
    {
     "name": "stdout",
     "output_type": "stream",
     "text": [
      "1\n",
      "3\n",
      "5\n"
     ]
    }
   ],
   "source": [
    "for i in range (1,6,2):\n",
    "               print(i)"
   ]
  },
  {
   "cell_type": "code",
   "execution_count": null,
   "id": "f4d8e84d-4494-4286-a92e-ef4cb83cfc27",
   "metadata": {},
   "outputs": [],
   "source": [
    "#2 is step size"
   ]
  },
  {
   "cell_type": "code",
   "execution_count": 35,
   "id": "b8ae9121-68d2-4b1b-8075-626e9f6eb413",
   "metadata": {},
   "outputs": [
    {
     "name": "stdout",
     "output_type": "stream",
     "text": [
      "1\n",
      "3\n",
      "5\n",
      "7\n",
      "9\n"
     ]
    }
   ],
   "source": [
    "for i in range (1,10,2):\n",
    "               print(i)"
   ]
  },
  {
   "cell_type": "code",
   "execution_count": 42,
   "id": "e62aeece-3d72-4415-9ea8-dcc0668570ab",
   "metadata": {},
   "outputs": [
    {
     "name": "stdout",
     "output_type": "stream",
     "text": [
      "******"
     ]
    }
   ],
   "source": [
    "n=3\n",
    "for i in range(0,n):\n",
    "    for j in range(0,i+1):\n",
    "        print('*',end=\"\")"
   ]
  },
  {
   "cell_type": "code",
   "execution_count": 43,
   "id": "f876290c-70f8-4530-8f27-7319ab036cfc",
   "metadata": {},
   "outputs": [
    {
     "name": "stdout",
     "output_type": "stream",
     "text": [
      "*\n",
      "*\n",
      "*\n",
      "*\n",
      "*\n",
      "*\n"
     ]
    }
   ],
   "source": [
    "n=3\n",
    "for i in range(0,n):\n",
    "    for j in range(0,i+1):\n",
    "        print('*',end=\"\\n\")\n",
    "        "
   ]
  },
  {
   "cell_type": "code",
   "execution_count": 46,
   "id": "9b5515eb-e403-47d2-a0dd-e25a9e1b71d9",
   "metadata": {},
   "outputs": [
    {
     "name": "stdout",
     "output_type": "stream",
     "text": [
      "*\n",
      "**\n",
      "***\n",
      "****\n",
      "*****\n",
      "******\n",
      "*******\n"
     ]
    }
   ],
   "source": [
    "n=7\n",
    "for i in range(0,n):\n",
    "    for j in range(0,i+1):\n",
    "        print('*',end=\"\")\n",
    "    print(\"\\r\")"
   ]
  },
  {
   "cell_type": "code",
   "execution_count": 46,
   "id": "f3c13be9-d973-4b39-8269-a42a37838143",
   "metadata": {},
   "outputs": [
    {
     "name": "stdout",
     "output_type": "stream",
     "text": [
      "*\n",
      "**\n",
      "***\n",
      "****\n",
      "*****\n",
      "******\n",
      "*******\n"
     ]
    }
   ],
   "source": [
    "n=7\n",
    "for i in range(0,n):\n",
    "    for j in range(0,i+1):\n",
    "        print('*',end=\"\")\n",
    "    print(\"\\r\")"
   ]
  },
  {
   "cell_type": "code",
   "execution_count": null,
   "id": "8522a431-26a3-4b2c-9147-984f9bb19ffe",
   "metadata": {},
   "outputs": [],
   "source": [
    "#loop controls\n",
    "#break \n",
    "#continue"
   ]
  },
  {
   "cell_type": "code",
   "execution_count": 20,
   "id": "ca5f5b8a-bb36-4e17-bb13-7be8d6b2191f",
   "metadata": {},
   "outputs": [],
   "source": [
    "fruits_list=['mango','cherry','apple','guava','potato']"
   ]
  },
  {
   "cell_type": "code",
   "execution_count": 47,
   "id": "b2211a3f-bc73-45b4-9c70-ffad08c59ec2",
   "metadata": {},
   "outputs": [
    {
     "name": "stdout",
     "output_type": "stream",
     "text": [
      "mango\n",
      "cherry\n",
      "the fruit is apple\n",
      "apple\n",
      "guava\n",
      "potato\n"
     ]
    }
   ],
   "source": [
    "for x in fruits_list:\n",
    "    if x=='apple':\n",
    "        print('the fruit is apple')\n",
    "    print(x)\n",
    "    "
   ]
  },
  {
   "cell_type": "code",
   "execution_count": 48,
   "id": "b0a3014c-6385-46f0-8c12-f28c2f42c6e5",
   "metadata": {},
   "outputs": [
    {
     "name": "stdout",
     "output_type": "stream",
     "text": [
      "mango\n",
      "cherry\n",
      "the fruit is apple\n"
     ]
    }
   ],
   "source": [
    "for x in fruits_list:\n",
    "    if x=='apple':\n",
    "        print('the fruit is apple')\n",
    "        break\n",
    "    print(x)\n",
    "    "
   ]
  },
  {
   "cell_type": "code",
   "execution_count": 49,
   "id": "5af9e0c7-aeda-401a-915a-126375d984f3",
   "metadata": {},
   "outputs": [
    {
     "name": "stdout",
     "output_type": "stream",
     "text": [
      "mango\n",
      "cherry\n",
      "the fruit is apple\n",
      "apple\n",
      "guava\n",
      "potato\n"
     ]
    }
   ],
   "source": [
    "for x in fruits_list:\n",
    "    if x=='apple':\n",
    "        print('the fruit is apple')\n",
    "        pass\n",
    "    print(x)\n",
    "    "
   ]
  },
  {
   "cell_type": "code",
   "execution_count": null,
   "id": "6a69c73e-df3e-47d4-9027-cb80033d9645",
   "metadata": {},
   "outputs": [],
   "source": [
    "#continue"
   ]
  },
  {
   "cell_type": "code",
   "execution_count": 50,
   "id": "796a1ff0-eb52-490b-b306-514e05910265",
   "metadata": {},
   "outputs": [
    {
     "name": "stdout",
     "output_type": "stream",
     "text": [
      "mango\n",
      "cherry\n",
      "the fruit is apple\n",
      "guava\n",
      "potato\n"
     ]
    }
   ],
   "source": [
    "for x in fruits_list:\n",
    "    if x=='apple':\n",
    "        print('the fruit is apple')\n",
    "        continue\n",
    "    print(x)\n",
    "    "
   ]
  },
  {
   "cell_type": "code",
   "execution_count": null,
   "id": "d67e30b8-aab0-493c-bbc8-a01af06f216f",
   "metadata": {},
   "outputs": [],
   "source": [
    "# NOTE :break is ut the loop while continue esape the loop"
   ]
  }
 ],
 "metadata": {
  "kernelspec": {
   "display_name": "Python 3 (ipykernel)",
   "language": "python",
   "name": "python3"
  },
  "language_info": {
   "codemirror_mode": {
    "name": "ipython",
    "version": 3
   },
   "file_extension": ".py",
   "mimetype": "text/x-python",
   "name": "python",
   "nbconvert_exporter": "python",
   "pygments_lexer": "ipython3",
   "version": "3.10.8"
  }
 },
 "nbformat": 4,
 "nbformat_minor": 5
}
